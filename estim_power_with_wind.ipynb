{
 "cells": [
  {
   "cell_type": "code",
   "execution_count": 1,
   "id": "268a63c0",
   "metadata": {},
   "outputs": [],
   "source": [
    "import pandas as pd\n",
    "from scipy.interpolate import interp1d"
   ]
  },
  {
   "cell_type": "code",
   "execution_count": 2,
   "id": "3e43d4cb",
   "metadata": {},
   "outputs": [],
   "source": [
    "# Estimation de la puissance grâce à la Courbe de puissance de Enercon E48/800\n",
    "df_curve_power = pd.read_csv(\"courbe_puissance.csv\")\n",
    "\n",
    "# interpolation de la courbe de puissance\n",
    "power_curve = interp1d(df_curve_power[\"wind_speed\"], df_curve_power[\"power\"], bounds_error=False, fill_value=0)"
   ]
  },
  {
   "cell_type": "code",
   "execution_count": 4,
   "id": "752bc504",
   "metadata": {},
   "outputs": [
    {
     "name": "stdout",
     "output_type": "stream",
     "text": [
      "Vitesse 3 m/s ---> 12.0 KW\n"
     ]
    }
   ],
   "source": [
    "wind = 3\n",
    "print(f\"Vitesse {wind} m/s ---> {power_curve(wind)} KW\")"
   ]
  }
 ],
 "metadata": {
  "kernelspec": {
   "display_name": "traduction_env",
   "language": "python",
   "name": "python3"
  },
  "language_info": {
   "codemirror_mode": {
    "name": "ipython",
    "version": 3
   },
   "file_extension": ".py",
   "mimetype": "text/x-python",
   "name": "python",
   "nbconvert_exporter": "python",
   "pygments_lexer": "ipython3",
   "version": "3.12.4"
  }
 },
 "nbformat": 4,
 "nbformat_minor": 5
}
